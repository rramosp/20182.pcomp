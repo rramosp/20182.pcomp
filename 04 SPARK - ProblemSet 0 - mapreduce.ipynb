{
 "cells": [
  {
   "cell_type": "markdown",
   "metadata": {},
   "source": [
    "## Problem Set 0 - Map-Reduce"
   ]
  },
  {
   "cell_type": "markdown",
   "metadata": {},
   "source": [
    "## <font style=\"color: red\"> Esta práctica contiene 4 ejercicios <!-- ONLY IN NOTEBOOK -->"
   ]
  },
  {
   "cell_type": "markdown",
   "metadata": {},
   "source": [
    "### Ejercicio 1: Estadísticas de Texto"
   ]
  },
  {
   "cell_type": "markdown",
   "metadata": {},
   "source": [
    "Completa la clase `TextStats` implementando un programa map-reduce que, dado un texto de entrada, cuente:\n",
    "\n",
    "- El número de caracteres\n",
    "- El número de líneas\n",
    "- El número de palabras\n",
    "\n",
    "y emita como resultado tres tuplas como en el ejemplo siguiente.\n",
    "\n",
    "\n",
    "_Ejemplo de ejecución_\n",
    "\n",
    "    Ancient influences have helped spawn variant interpretations \n",
    "    of the nature of history which have evolved over the centuries \n",
    "    and continue to change today. The modern study of history is \n",
    "    wide-ranging, and includes the study of specific regions and \n",
    "    the study of certain topical or thematical elements of \n",
    "    historical investigation. Often history is taught as part of \n",
    "    primary and secondary education, and the academic study of \n",
    "    history is a major discipline in University studies\n",
    "    \n",
    "_Resultado_\n",
    "\n",
    "    \"chars\"\t472\n",
    "    \"lines\"\t8\n",
    "    \"words\"\t73\n",
    "\n",
    "_Nota: Dado un string_ `s`_ usa la función_ `s.split()` _para obtener obtener una lista con los conjuntos de caracteres del string que están separados por espacios en blanco. Usa la función_ `len` _para obtener la longitud de un string o de una lista._ "
   ]
  },
  {
   "cell_type": "code",
   "execution_count": null,
   "metadata": {},
   "outputs": [],
   "source": [
    "%%writefile files/p_02A_01_TextStats.py\n",
    "from mrjob.job import MRJob\n",
    "\n",
    "class TextStats(MRJob):\n",
    "\n",
    "    def mapper(self, _, line):\n",
    "        # TU CODIGO AQUI\n",
    "        yield \"KEY\", \"VALUE\"\n",
    "\n",
    "    def reducer(self, key, values):\n",
    "        # TU CODIGO AQUI\n",
    "        yield \"KEY\", \"VALUE\"\n",
    "        \n",
    "if __name__ == '__main__':\n",
    "    TextStats.run()"
   ]
  },
  {
   "cell_type": "markdown",
   "metadata": {},
   "source": [
    "verifica que la salida es la esperada y prueba con nuevos valores. <font style=\"color: red\">_Elimina la opción_ `--quiet` _para ver los mensajes de error de tu código si no produce la salida esperada_\n"
   ]
  },
  {
   "cell_type": "code",
   "execution_count": null,
   "metadata": {},
   "outputs": [],
   "source": [
    "%%script /opt/anaconda/bin/python files/p_02A_01_TextStats.py --quiet\n",
    "Ancient influences have helped spawn variant interpretations \n",
    "of the nature of history which have evolved over the centuries \n",
    "and continue to change today. The modern study of history is \n",
    "wide-ranging, and includes the study of specific regions and \n",
    "the study of certain topical or thematical elements of \n",
    "historical investigation. Often history is taught as part of \n",
    "primary and secondary education, and the academic study of \n",
    "history is a major discipline in University studies"
   ]
  },
  {
   "cell_type": "markdown",
   "metadata": {},
   "source": [
    "### Ejercicio 2: Conteo de palabras"
   ]
  },
  {
   "cell_type": "markdown",
   "metadata": {},
   "source": [
    "Completa la clase `WordCount` para que dado un texto cuente el número de ocurrencias de cada palabra. No te preocupes por puntuaciones, diferenciación de mayúsculas/minúsculas, etc. simplemente usa el resultado de `line.split()` de cada línea de entrada.\n",
    "\n",
    "con el mismo texto anterior esta sería parte de la salida esperada:\n",
    "\n",
    "    \"Ancient\"\t1\n",
    "    \"University\"\t1\n",
    "    \"a\"\t1\n",
    "    \"academic\"\t1\n",
    "    \"and\"\t5\n",
    "    \"discipline\"\t1\n",
    "    \"education,\"\t1\n",
    "    \"investigation.\"\t1\n",
    "    \"is\"\t3\n",
    "    \"study\"\t4\n",
    "    \"taught\"\t1\n",
    "    \"the\"\t5\n",
    "\n",
    "Fíjate que, al no diferenciar puntuación, etc. 'education,' y 'education' (sin la coma) son consideradas como palabras distintas. ¿dónde harías el preprocesado para eliminar desinencias, puntuaciones, etc.?"
   ]
  },
  {
   "cell_type": "code",
   "execution_count": null,
   "metadata": {},
   "outputs": [],
   "source": [
    "%%writefile files/p_02A_02_WordCount.py\n",
    "from mrjob.job import MRJob\n",
    "\n",
    "class WordCount(MRJob):\n",
    "\n",
    "    def mapper(self, _, line):\n",
    "        # TU CODIGO AQUI\n",
    "        yield \"KEY\", \"VALUE\"\n",
    "\n",
    "    def reducer(self, key, values):\n",
    "        # TU CODIGO AQUI\n",
    "        yield \"KEY\", \"VALUE\"\n",
    "        \n",
    "if __name__ == '__main__':\n",
    "    WordCount.run()"
   ]
  },
  {
   "cell_type": "markdown",
   "metadata": {},
   "source": [
    "verifica que la salida es la esperada y prueba con nuevos valores. <font style=\"color: red\">_Elimina la opción_ `--quiet` _para ver los mensajes de error de tu código si no produce la salida esperada_"
   ]
  },
  {
   "cell_type": "code",
   "execution_count": null,
   "metadata": {},
   "outputs": [],
   "source": [
    "%%script /opt/anaconda/bin/python files/p_02A_02_WordCount.py -q\n",
    "Ancient influences have helped spawn variant interpretations \n",
    "of the nature of history which have evolved over the centuries \n",
    "and continue to change today. The modern study of history is \n",
    "wide-ranging, and includes the study of specific regions and \n",
    "the study of certain topical or thematical elements of \n",
    "historical investigation. Often history is taught as part of \n",
    "primary and secondary education, and the academic study of \n",
    "history is a major discipline in University studies"
   ]
  },
  {
   "cell_type": "markdown",
   "metadata": {},
   "source": [
    "### Ejercicio 3: Índice invertido"
   ]
  },
  {
   "cell_type": "markdown",
   "metadata": {},
   "source": [
    "Completa la clase `InvertedIndex` implementando un programa map-reduce que cree un indice invertido para una lista de documentos. Es decir, para cada palabra en nuestra colección de documentos el índice invertido no da en qué documentos aparece. Estos índices se usan posteriormente para responder a queries:\n",
    "\n",
    "\n",
    "_Ejemplo de ejecución_ (entrada es en formato **json**)\n",
    "\n",
    "    [\"001\", \"the car is nice\"]\n",
    "    [\"002\", \"that car is mine\"]\n",
    "    [\"003\", \"that shirt is nice\"]  \n",
    "    [\"004\", \"the car is the best\"]\n",
    "    \n",
    "_Resultado_\n",
    "\n",
    "    \"best\"  [\"004\"]\n",
    "    \"car\"   [\"001\", \"002\", \"004\"]\n",
    "    \"is\"    [\"001\", \"002\", \"003\", \"004\"]\n",
    "    \"mine\"  [\"002\"]\n",
    "    \"nice\"  [\"001\", \"003\"]\n",
    "    \"shirt\" [\"003\"]\n",
    "    \"that\"  [\"002\", \"003\"]\n",
    "    \"the\"   [\"001\", \"004\"]\n",
    "\n",
    "_Nota: usa la linea:_\n",
    "\n",
    "    key, text = json.loads(line)\n",
    "\n",
    "_para obtener extraer el id del documento y el texto del mismo del formato **json** _ "
   ]
  },
  {
   "cell_type": "code",
   "execution_count": null,
   "metadata": {},
   "outputs": [],
   "source": [
    "%%writefile files/p_02B_01_InvertedIndex.py\n",
    "from mrjob.job import MRJob\n",
    "import json\n",
    "\n",
    "class InvertedIndex(MRJob):\n",
    "\n",
    "    def mapper(self, _, line):\n",
    "        key, text = json.loads(line)\n",
    "        # TU CODIGO AQUI\n",
    "        yield \"KEY\", \"VALUE\"\n",
    "\n",
    "    def reducer(self, key, values):\n",
    "        docs = []\n",
    "        # TU CODIGO AQUI\n",
    "        yield \"KEY\", \"VALUE\"\n",
    "        \n",
    "if __name__ == '__main__':\n",
    "    InvertedIndex.run()"
   ]
  },
  {
   "cell_type": "markdown",
   "metadata": {},
   "source": [
    "verifica que la salida es la esperada y prueba con nuevos valores. <font style=\"color: red\">_Elimina la opción_ `--quiet` _para ver los mensajes de error de tu código si no produce la salida esperada_\n"
   ]
  },
  {
   "cell_type": "code",
   "execution_count": null,
   "metadata": {},
   "outputs": [],
   "source": [
    "%%script /opt/anaconda/bin/python files/p_02B_01_InvertedIndex.py -q \n",
    "[\"001\", \"the car is nice\"]\n",
    "[\"002\", \"that car is mine\"]\n",
    "[\"003\", \"that shirt is nice\"]  \n",
    "[\"004\", \"the car is the best\"]"
   ]
  },
  {
   "cell_type": "code",
   "execution_count": null,
   "metadata": {
    "scrolled": false
   },
   "outputs": [],
   "source": [
    "%%script /opt/anaconda/bin/python files/p_02B_01_InvertedIndex.py -q \n",
    "[\"001\", \"War is a state of armed conflict between autonomous organizations (such as states and non-state actors) or coalitions of such organizations. It is generally characterized by extreme collective aggression, destruction, and usually high mortality. The set of techniques used by a group to carry out war is known as warfare. An absence of war is usually called peace.\"]\n",
    "[\"032\", \"War must entail some degree of confrontation using weapons and other military technology and equipment by armed forces employing military tactics and operational art within a broad military strategy subject to military logistics.\"]\n",
    "[\"105\", \"While some scholars see warfare as a universal and ancestral aspect of human nature, others argue that it is only a result of specific socio-cultural or ecological circumstances\"]"
   ]
  },
  {
   "cell_type": "markdown",
   "metadata": {},
   "source": [
    "### Ejercicio 4: Amigos asimétricos"
   ]
  },
  {
   "cell_type": "markdown",
   "metadata": {},
   "source": [
    "Sobre el mismo ejemplo de las notas queremos ahora obtener una lista de parejas en las que la relación de amistad es asimétrica. Es decir, si en la entrada tenemos (personA, personB) y también tenemos (personB, personA) entonces ninguna de esas dos tuplas ha de aparecer en la salida. En cambio, si en la entrada tenemos (personA, personB) pero NO TENEMOS (personB, personA), entonces en la salida han de aparecer AMBAS TUPLAS.\n",
    "\n",
    "_Ejemplo de ejecución_ (entrada es en formato **json**)\n",
    "\n",
    "    [\"juan\", \"pepe\"]\n",
    "    [\"juan\", \"sebastian\"]\n",
    "    [\"raul\", \"pepe\"]\n",
    "    [\"juan\", \"ana\"]\n",
    "    [\"ana\", \"pepe\"]\n",
    "    [\"pepe\", \"ana\"]\n",
    "    [\"ana\", \"juan\"]\n",
    "    [\"ana\", \"pedro\"]\n",
    "\n",
    "_Resultado_\n",
    "\n",
    "    \"ana\"   \"pedro\"\n",
    "    \"juan\"  \"pepe\"\n",
    "    \"juan\"  \"sebastian\"\n",
    "    \"pedro\" \"ana\" \n",
    "    \"pepe\"  \"juan\"\n",
    "    \"pepe\"  \"raul\"\n",
    "    \"raul\"  \"pepe\"\n",
    "    \"sebastian\" \"juan\"\n",
    "\n"
   ]
  },
  {
   "cell_type": "code",
   "execution_count": null,
   "metadata": {},
   "outputs": [],
   "source": [
    "%%writefile files/p_02B_02_FriendsAsimetric.py\n",
    "from mrjob.job import MRJob\n",
    "from mrjob.step import MRStep\n",
    "\n",
    "import json\n",
    "\n",
    "class FriendsAsimetric(MRJob):\n",
    "\n",
    "    def mapper(self, _, line):\n",
    "        f1, f2 = json.loads(line)\n",
    "        # TU CODIGO AQUI\n",
    "        yield \"KEY\", \"VALUE\"\n",
    "\n",
    "    def reducer(self, key, values):\n",
    "        # TU CODIGO AQUI\n",
    "        yield \"KEY\", \"VALUE\"\n",
    "        \n",
    "if __name__ == '__main__':\n",
    "    FriendsAsimetric.run()"
   ]
  },
  {
   "cell_type": "code",
   "execution_count": null,
   "metadata": {},
   "outputs": [],
   "source": [
    "%%script /opt/anaconda/bin/python files/p_02B_02_FriendsAsimetric.py -q\n",
    "[\"juan\", \"pepe\"]\n",
    "[\"juan\", \"sebastian\"]\n",
    "[\"raul\", \"pepe\"]\n",
    "[\"juan\", \"ana\"]\n",
    "[\"ana\", \"pepe\"]\n",
    "[\"pepe\", \"ana\"]\n",
    "[\"ana\", \"juan\"]\n",
    "[\"ana\", \"pedro\"]"
   ]
  }
 ],
 "metadata": {
  "kernelspec": {
   "display_name": "Python 2",
   "language": "python",
   "name": "python2"
  },
  "language_info": {
   "codemirror_mode": {
    "name": "ipython",
    "version": 2
   },
   "file_extension": ".py",
   "mimetype": "text/x-python",
   "name": "python",
   "nbconvert_exporter": "python",
   "pygments_lexer": "ipython2",
   "version": "2.7.14"
  }
 },
 "nbformat": 4,
 "nbformat_minor": 1
}
