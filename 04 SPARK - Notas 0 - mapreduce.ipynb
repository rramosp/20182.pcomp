{
 "cells": [
  {
   "cell_type": "markdown",
   "metadata": {},
   "source": [
    "# Map Reduce"
   ]
  },
  {
   "cell_type": "markdown",
   "metadata": {},
   "source": [
    "## Procesamiento de información con MAP-REDUCE"
   ]
  },
  {
   "cell_type": "markdown",
   "metadata": {},
   "source": [
    "### Un ejemplo\n",
    "Tenemos un log de la siguiente manera\n",
    "\n",
    "    2012-01-01 09:08 BOG Libros 88.56 Discover\n",
    "    2012-01-01 09:52 BGA Libros 62.41 Discover\n",
    "    2012-01-01 10:08 MED Musica 93.37 Visa\n",
    "    2012-01-01 10:58 MED Musica 395.93 Discover\n",
    "    2012-01-01 14:38 BOG Musica 113.24 MasterCard\n",
    "    2012-01-01 14:44 BGA Libros 290.5 Visa\n",
    "    2012-01-01 16:26 MED Musica 246.12 Efectivo\n",
    "\n",
    "Con el `dia`, `hora`, `ciudad`, `producto`, `importe` y `medio de pago` de compras realizadas en almacenes de una cierta cadena. Queremos obtener el total del importe de compras realizadas en cada ciudad. Una forma de hacerlo es la siguiente:\n",
    "\n",
    "1) procesamos cada linea y, de cada una, generamos un par `(ciudad, importe)`, obteniendo los siguientes pares:\n",
    "\n",
    "    (BOG, 88.56)\n",
    "    (BGA, 62.41)\n",
    "    (MED, 93.37)\n",
    "    (MED, 395.93)\n",
    "    (BOG, 113.24)\n",
    "    (BGA, 290.5)\n",
    "    (MED, 246.12)\n",
    "    \n",
    "2) agrupamos las tuplas generadas por el valor del primer componente:\n",
    "\n",
    "    (BOG, [88.56, 113.24])\n",
    "    (BGA, [62.41, 290.5])\n",
    "    (MED, [93.37, 395.93, 246.12])\n",
    "     \n",
    "3) sumamos los elementos de cada lista para cada ciudad:\n",
    "\n",
    "    (BOG, 201.8)\n",
    "    (BGA, 352.91)\n",
    "    (MED, 735.42)\n",
    "    \n",
    "\n"
   ]
  },
  {
   "cell_type": "markdown",
   "metadata": {},
   "source": [
    "### Tres fases\n",
    "\n",
    "El primer paso en el ejemplo anterior se denomina **MAP** y, para cada registro de entrada, genera una tupla de formato `(clave, valor)`.\n",
    "\n",
    "El segundo paso se denomina **SHUFFLE** y lo que hace es recopilar todas las tuplas generadas en el MAP anterior de cada `clave` y construir una lista con todos los valores generados. Es decir, una tupla de formato `(clave, lista_de_valores)` para cada clave.\n",
    "\n",
    "El tercer paso se denomina **REDUCE** y, para cada clave, agrega los resultados de la lista generada en el SHUFFLE anterior.\n",
    "\n",
    "Esta forma de procesar los datos constituye un **modelo de programación** llamado *MAP-REDUCE* y que está implementado por varios frameworks de programación y en varios lenguajes, de forma que el programador **solo implementa las funciones MAP y REDUCE** y el framework se encarga del shuffle."
   ]
  },
  {
   "cell_type": "markdown",
   "metadata": {},
   "source": [
    "### mr-job\n",
    "\n",
    "\n",
    "Usaremos el framework [mr-job](https://pythonhosted.org/mrjob) para hacer nuestros programas map-reduce. El siguiente código implementa el proceso que acabamos de describir. Fíjate cómo sólo programamos las funciones `mapper` y `reducer`."
   ]
  },
  {
   "cell_type": "code",
   "execution_count": 11,
   "metadata": {},
   "outputs": [
    {
     "name": "stdout",
     "output_type": "stream",
     "text": [
      "Requirement already satisfied: mrjob in /opt/miniconda/lib/python2.7/site-packages\n",
      "Requirement already satisfied: PyYAML>=3.08 in /opt/miniconda/lib/python2.7/site-packages (from mrjob)\n",
      "Requirement already satisfied: google-cloud>=0.32.0 in /opt/miniconda/lib/python2.7/site-packages (from mrjob)\n",
      "Requirement already satisfied: botocore>=1.6.0 in /opt/miniconda/lib/python2.7/site-packages (from mrjob)\n",
      "Requirement already satisfied: boto3>=1.4.6 in /opt/miniconda/lib/python2.7/site-packages (from mrjob)\n",
      "Requirement already satisfied: google-cloud-dataproc in /opt/miniconda/lib/python2.7/site-packages (from mrjob)\n",
      "Requirement already satisfied: google-cloud-vision<0.30dev,>=0.29.0 in /opt/miniconda/lib/python2.7/site-packages (from google-cloud>=0.32.0->mrjob)\n",
      "Requirement already satisfied: google-cloud-trace<0.18dev,>=0.17.0 in /opt/miniconda/lib/python2.7/site-packages (from google-cloud>=0.32.0->mrjob)\n",
      "Requirement already satisfied: google-api-core<0.2.0dev,>=0.1.2 in /opt/miniconda/lib/python2.7/site-packages (from google-cloud>=0.32.0->mrjob)\n",
      "Requirement already satisfied: google-cloud-error-reporting<0.29dev,>=0.28.0 in /opt/miniconda/lib/python2.7/site-packages (from google-cloud>=0.32.0->mrjob)\n",
      "Requirement already satisfied: google-cloud-translate<1.4dev,>=1.3.0 in /opt/miniconda/lib/python2.7/site-packages (from google-cloud>=0.32.0->mrjob)\n",
      "Requirement already satisfied: google-cloud-resource-manager<0.29dev,>=0.28.0 in /opt/miniconda/lib/python2.7/site-packages (from google-cloud>=0.32.0->mrjob)\n",
      "Requirement already satisfied: google-cloud-dns<0.29dev,>=0.28.0 in /opt/miniconda/lib/python2.7/site-packages (from google-cloud>=0.32.0->mrjob)\n",
      "Requirement already satisfied: google-cloud-spanner<0.30dev,>=0.29.0 in /opt/miniconda/lib/python2.7/site-packages (from google-cloud>=0.32.0->mrjob)\n",
      "Requirement already satisfied: google-cloud-bigtable<0.29dev,>=0.28.1 in /opt/miniconda/lib/python2.7/site-packages (from google-cloud>=0.32.0->mrjob)\n",
      "Requirement already satisfied: google-cloud-videointelligence<1.1dev,>=1.0.0 in /opt/miniconda/lib/python2.7/site-packages (from google-cloud>=0.32.0->mrjob)\n",
      "Requirement already satisfied: google-cloud-logging<1.5dev,>=1.4.0 in /opt/miniconda/lib/python2.7/site-packages (from google-cloud>=0.32.0->mrjob)\n",
      "Requirement already satisfied: google-cloud-runtimeconfig<0.29dev,>=0.28.0 in /opt/miniconda/lib/python2.7/site-packages (from google-cloud>=0.32.0->mrjob)\n",
      "Requirement already satisfied: google-cloud-storage<1.7dev,>=1.6.0 in /opt/miniconda/lib/python2.7/site-packages (from google-cloud>=0.32.0->mrjob)\n",
      "Requirement already satisfied: google-cloud-bigquery-datatransfer<0.2dev,>=0.1.0 in /opt/miniconda/lib/python2.7/site-packages (from google-cloud>=0.32.0->mrjob)\n",
      "Requirement already satisfied: google-cloud-container<0.2dev,>=0.1.0 in /opt/miniconda/lib/python2.7/site-packages (from google-cloud>=0.32.0->mrjob)\n",
      "Requirement already satisfied: google-cloud-monitoring<0.29dev,>=0.28.0 in /opt/miniconda/lib/python2.7/site-packages (from google-cloud>=0.32.0->mrjob)\n",
      "Requirement already satisfied: google-cloud-bigquery<0.29dev,>=0.28.0 in /opt/miniconda/lib/python2.7/site-packages (from google-cloud>=0.32.0->mrjob)\n",
      "Requirement already satisfied: google-cloud-firestore<0.29dev,>=0.28.0 in /opt/miniconda/lib/python2.7/site-packages (from google-cloud>=0.32.0->mrjob)\n",
      "Requirement already satisfied: google-cloud-language<1.1dev,>=1.0.0 in /opt/miniconda/lib/python2.7/site-packages (from google-cloud>=0.32.0->mrjob)\n",
      "Requirement already satisfied: google-cloud-datastore<1.5dev,>=1.4.0 in /opt/miniconda/lib/python2.7/site-packages (from google-cloud>=0.32.0->mrjob)\n",
      "Requirement already satisfied: google-cloud-core<0.29dev,>=0.28.0 in /opt/miniconda/lib/python2.7/site-packages (from google-cloud>=0.32.0->mrjob)\n",
      "Requirement already satisfied: google-cloud-speech<0.31dev,>=0.30.0 in /opt/miniconda/lib/python2.7/site-packages (from google-cloud>=0.32.0->mrjob)\n",
      "Requirement already satisfied: google-cloud-pubsub<0.31dev,>=0.30.0 in /opt/miniconda/lib/python2.7/site-packages (from google-cloud>=0.32.0->mrjob)\n",
      "Requirement already satisfied: python-dateutil<3.0.0,>=2.1 in /opt/miniconda/lib/python2.7/site-packages (from botocore>=1.6.0->mrjob)\n",
      "Requirement already satisfied: jmespath<1.0.0,>=0.7.1 in /opt/miniconda/lib/python2.7/site-packages (from botocore>=1.6.0->mrjob)\n",
      "Requirement already satisfied: docutils>=0.10 in /opt/miniconda/lib/python2.7/site-packages (from botocore>=1.6.0->mrjob)\n",
      "Requirement already satisfied: s3transfer<0.2.0,>=0.1.10 in /opt/miniconda/lib/python2.7/site-packages (from boto3>=1.4.6->mrjob)\n",
      "Requirement already satisfied: googleapis-common-protos[grpc]<2.0dev,>=1.5.2 in /opt/miniconda/lib/python2.7/site-packages (from google-cloud-dataproc->mrjob)\n",
      "Requirement already satisfied: requests<3.0dev,>=2.18.4 in /opt/miniconda/lib/python2.7/site-packages (from google-cloud-dataproc->mrjob)\n",
      "Requirement already satisfied: google-auth<2.0dev,>=1.0.2 in /opt/miniconda/lib/python2.7/site-packages (from google-cloud-dataproc->mrjob)\n",
      "Requirement already satisfied: enum34; python_version < \"3.4\" in /opt/miniconda/lib/python2.7/site-packages (from google-cloud-vision<0.30dev,>=0.29.0->google-cloud>=0.32.0->mrjob)\n",
      "Requirement already satisfied: google-gax<0.16dev,>=0.15.7 in /opt/miniconda/lib/python2.7/site-packages (from google-cloud-trace<0.18dev,>=0.17.0->google-cloud>=0.32.0->mrjob)\n",
      "Requirement already satisfied: pytz in /opt/miniconda/lib/python2.7/site-packages (from google-api-core<0.2.0dev,>=0.1.2->google-cloud>=0.32.0->mrjob)\n",
      "Requirement already satisfied: futures>=3.2.0; python_version < \"3.2\" in /opt/miniconda/lib/python2.7/site-packages (from google-api-core<0.2.0dev,>=0.1.2->google-cloud>=0.32.0->mrjob)\n",
      "Requirement already satisfied: protobuf>=3.0.0 in /opt/miniconda/lib/python2.7/site-packages (from google-api-core<0.2.0dev,>=0.1.2->google-cloud>=0.32.0->mrjob)\n",
      "Requirement already satisfied: six>=1.10.0 in /opt/miniconda/lib/python2.7/site-packages (from google-api-core<0.2.0dev,>=0.1.2->google-cloud>=0.32.0->mrjob)\n",
      "Requirement already satisfied: setuptools>=34.0.0 in /opt/miniconda/lib/python2.7/site-packages (from google-api-core<0.2.0dev,>=0.1.2->google-cloud>=0.32.0->mrjob)\n",
      "Requirement already satisfied: gapic-google-cloud-error-reporting-v1beta1<0.16dev,>=0.15.0 in /opt/miniconda/lib/python2.7/site-packages (from google-cloud-error-reporting<0.29dev,>=0.28.0->google-cloud>=0.32.0->mrjob)\n",
      "Requirement already satisfied: grpc-google-iam-v1<0.12dev,>=0.11.4 in /opt/miniconda/lib/python2.7/site-packages (from google-cloud-spanner<0.30dev,>=0.29.0->google-cloud>=0.32.0->mrjob)\n",
      "Requirement already satisfied: gapic-google-cloud-logging-v2<0.92dev,>=0.91.0 in /opt/miniconda/lib/python2.7/site-packages (from google-cloud-logging<1.5dev,>=1.4.0->google-cloud>=0.32.0->mrjob)\n",
      "Requirement already satisfied: google-resumable-media>=0.3.1 in /opt/miniconda/lib/python2.7/site-packages (from google-cloud-storage<1.7dev,>=1.6.0->google-cloud>=0.32.0->mrjob)\n",
      "Requirement already satisfied: gapic-google-cloud-datastore-v1<0.16dev,>=0.15.0 in /opt/miniconda/lib/python2.7/site-packages (from google-cloud-datastore<1.5dev,>=1.4.0->google-cloud>=0.32.0->mrjob)\n",
      "Requirement already satisfied: psutil<6.0dev,>=5.2.2 in /opt/miniconda/lib/python2.7/site-packages (from google-cloud-pubsub<0.31dev,>=0.30.0->google-cloud>=0.32.0->mrjob)\n",
      "Requirement already satisfied: grpcio>=1.0.0; extra == \"grpc\" in /opt/miniconda/lib/python2.7/site-packages (from googleapis-common-protos[grpc]<2.0dev,>=1.5.2->google-cloud-dataproc->mrjob)\n",
      "Requirement already satisfied: urllib3<1.23,>=1.21.1 in /opt/miniconda/lib/python2.7/site-packages (from requests<3.0dev,>=2.18.4->google-cloud-dataproc->mrjob)\n",
      "Requirement already satisfied: idna<2.7,>=2.5 in /opt/miniconda/lib/python2.7/site-packages (from requests<3.0dev,>=2.18.4->google-cloud-dataproc->mrjob)\n",
      "Requirement already satisfied: chardet<3.1.0,>=3.0.2 in /opt/miniconda/lib/python2.7/site-packages (from requests<3.0dev,>=2.18.4->google-cloud-dataproc->mrjob)\n",
      "Requirement already satisfied: certifi>=2017.4.17 in /opt/miniconda/lib/python2.7/site-packages (from requests<3.0dev,>=2.18.4->google-cloud-dataproc->mrjob)\n",
      "Requirement already satisfied: pyasn1-modules>=0.2.1 in /opt/miniconda/lib/python2.7/site-packages (from google-auth<2.0dev,>=1.0.2->google-cloud-dataproc->mrjob)\n",
      "Requirement already satisfied: cachetools>=2.0.0 in /opt/miniconda/lib/python2.7/site-packages (from google-auth<2.0dev,>=1.0.2->google-cloud-dataproc->mrjob)\n"
     ]
    },
    {
     "name": "stdout",
     "output_type": "stream",
     "text": [
      "Requirement already satisfied: rsa>=3.1.4 in /opt/miniconda/lib/python2.7/site-packages (from google-auth<2.0dev,>=1.0.2->google-cloud-dataproc->mrjob)\n",
      "Requirement already satisfied: future<0.17dev,>=0.16.0 in /opt/miniconda/lib/python2.7/site-packages (from google-gax<0.16dev,>=0.15.7->google-cloud-trace<0.18dev,>=0.17.0->google-cloud>=0.32.0->mrjob)\n",
      "Requirement already satisfied: dill<0.3dev,>=0.2.5 in /opt/miniconda/lib/python2.7/site-packages (from google-gax<0.16dev,>=0.15.7->google-cloud-trace<0.18dev,>=0.17.0->google-cloud>=0.32.0->mrjob)\n",
      "Requirement already satisfied: ply==3.8 in /opt/miniconda/lib/python2.7/site-packages (from google-gax<0.16dev,>=0.15.7->google-cloud-trace<0.18dev,>=0.17.0->google-cloud>=0.32.0->mrjob)\n",
      "Requirement already satisfied: oauth2client<4.0dev,>=2.0.0 in /opt/miniconda/lib/python2.7/site-packages (from gapic-google-cloud-error-reporting-v1beta1<0.16dev,>=0.15.0->google-cloud-error-reporting<0.29dev,>=0.28.0->google-cloud>=0.32.0->mrjob)\n",
      "Requirement already satisfied: proto-google-cloud-error-reporting-v1beta1[grpc]<0.16dev,>=0.15.3 in /opt/miniconda/lib/python2.7/site-packages (from gapic-google-cloud-error-reporting-v1beta1<0.16dev,>=0.15.0->google-cloud-error-reporting<0.29dev,>=0.28.0->google-cloud>=0.32.0->mrjob)\n",
      "Requirement already satisfied: proto-google-cloud-logging-v2[grpc]<0.92dev,>=0.91.3 in /opt/miniconda/lib/python2.7/site-packages (from gapic-google-cloud-logging-v2<0.92dev,>=0.91.0->google-cloud-logging<1.5dev,>=1.4.0->google-cloud>=0.32.0->mrjob)\n",
      "Requirement already satisfied: proto-google-cloud-datastore-v1[grpc]<0.91dev,>=0.90.3 in /opt/miniconda/lib/python2.7/site-packages (from gapic-google-cloud-datastore-v1<0.16dev,>=0.15.0->google-cloud-datastore<1.5dev,>=1.4.0->google-cloud>=0.32.0->mrjob)\n",
      "Requirement already satisfied: pyasn1<0.5.0,>=0.4.1 in /opt/miniconda/lib/python2.7/site-packages (from pyasn1-modules>=0.2.1->google-auth<2.0dev,>=1.0.2->google-cloud-dataproc->mrjob)\n",
      "Requirement already satisfied: httplib2>=0.9.1 in /opt/miniconda/lib/python2.7/site-packages (from oauth2client<4.0dev,>=2.0.0->gapic-google-cloud-error-reporting-v1beta1<0.16dev,>=0.15.0->google-cloud-error-reporting<0.29dev,>=0.28.0->google-cloud>=0.32.0->mrjob)\n",
      "\u001b[33mYou are using pip version 9.0.1, however version 10.0.1 is available.\n",
      "You should consider upgrading via the 'pip install --upgrade pip' command.\u001b[0m\n"
     ]
    }
   ],
   "source": [
    "!pip install mrjob\n",
    "!mkdir -p files"
   ]
  },
  {
   "cell_type": "code",
   "execution_count": 1,
   "metadata": {},
   "outputs": [
    {
     "name": "stdout",
     "output_type": "stream",
     "text": [
      "Writing files/mr-basico.py\n"
     ]
    }
   ],
   "source": [
    "%%writefile files/mr-basico.py\n",
    "from mrjob.job import MRJob\n",
    "import os\n",
    "\n",
    "class Compras(MRJob):\n",
    "\n",
    "    def mapper(self, _, line):\n",
    "        tokens = line.split()\n",
    "        yield tokens[3], float(tokens[4])\n",
    "\n",
    "    def reducer(self, key, values):\n",
    "        yield key, sum(values)\n",
    "        \n",
    "if __name__ == '__main__':\n",
    "    c = Compras()\n",
    "    c.run()\n"
   ]
  },
  {
   "cell_type": "code",
   "execution_count": 2,
   "metadata": {},
   "outputs": [
    {
     "name": "stdout",
     "output_type": "stream",
     "text": [
      "\"Musica\"\t848.66\n",
      "\"Libros\"\t441.47\n"
     ]
    }
   ],
   "source": [
    "%%script python files/mr-basico.py -r inline --quiet\n",
    "2012-01-01 09:08 BOG Libros 88.56 Discover\n",
    "2012-01-01 09:52 BGA Libros 62.41 Discover\n",
    "2012-01-01 10:08 MED Musica 93.37 Visa\n",
    "2012-01-01 10:58 MED Musica 395.93 Discover\n",
    "2012-01-01 14:38 BOG Musica 113.24 MasterCard\n",
    "2012-01-01 14:44 BGA Libros 290.5 Visa\n",
    "2012-01-01 16:26 MED Musica 246.12 Efectivo"
   ]
  },
  {
   "cell_type": "markdown",
   "metadata": {
    "collapsed": true
   },
   "source": [
    "_Prueba a eliminar el término_ `--quiet` _de la celda anterior y así verás los mensajes que emite **mr-job** durante la ejecución del programa_. <font style=\"color: red\"/>**Tendrás que hacer esto si tus programas map-reduce no funcionan como esperado y así ver los mensajes de error del código**"
   ]
  },
  {
   "cell_type": "markdown",
   "metadata": {},
   "source": [
    "### Otro ejemplo\n",
    "\n",
    "En este ejemplo partimos de una tuplas (personaA, personaB) que representa que la personaA considera a la personaB como amiga. La relación no es simétrica. El siguiente programa cuenta cuantas amigos considera cada persona que tiene.\n",
    "\n",
    "Fíjate que la entrada es en formato JSON y cómo usamos la librería `json` de Python para convertir la entrada JSON en una lista de valores."
   ]
  },
  {
   "cell_type": "code",
   "execution_count": 3,
   "metadata": {},
   "outputs": [
    {
     "name": "stdout",
     "output_type": "stream",
     "text": [
      "Writing files/mr-amigos.py\n"
     ]
    }
   ],
   "source": [
    "%%writefile files/mr-amigos.py\n",
    "from mrjob.job import MRJob\n",
    "import json\n",
    "\n",
    "class Amigos(MRJob):\n",
    "\n",
    "    def mapper(self, _, line):\n",
    "        record = json.loads(line)\n",
    "        yield record[0], 1\n",
    "\n",
    "    def reducer(self, key, values):\n",
    "        yield key, sum(values)\n",
    "        \n",
    "if __name__ == '__main__':\n",
    "    c = Amigos()\n",
    "    c.run()\n"
   ]
  },
  {
   "cell_type": "code",
   "execution_count": 4,
   "metadata": {},
   "outputs": [
    {
     "name": "stdout",
     "output_type": "stream",
     "text": [
      "\"juan\"\t3\n",
      "\"ana\"\t2\n",
      "\"raul\"\t1\n"
     ]
    }
   ],
   "source": [
    "%%script python files/mr-amigos.py -r inline --quiet\n",
    "[\"juan\", \"pepe\"]\n",
    "[\"juan\", \"sebastian\"]\n",
    "[\"raul\", \"pepe\"]\n",
    "[\"ana\", \"pepe\"]\n",
    "[\"juan\", \"ana\"]\n",
    "[\"ana\", \"pedro\"]"
   ]
  },
  {
   "cell_type": "markdown",
   "metadata": {},
   "source": [
    "## Instrumentación y runners\n",
    "\n",
    "Usamos la instrumentación para encontrar errores, entender nuestro código, etc. Por ahora usamos `print` para saber cuantas veces se llama a cada función. Fíjate como el `reducer` se llama una vez por cada clave distinta que generamos en el `mapper`. Cuando usemos varios procesos o máquinas tendremos que recurrir a otros tipos de instrumentación.\n",
    "\n",
    "Fíjate también que `values` en la función `reducer` es un **generador** [[ref](http://www.jeffknupp.com/blog/2013/04/07/improve-your-python-yield-and-generators-explained/)], es decir, no contiene en sí una lista de valores, sino que cada vez que va devolviendo valores uno a uno hasta que se acaban. Típicamente esto sucede porque va obteniendo los valores que devuelve de un _stream_ de entrada como un fichero, o una conexión remota. Por esto sólo podemos iterar sobre todos los valores **una única vez**.\n",
    "\n",
    "Como ahora en el `reducer` queremos obtenter ambos el número de valores que tenemos y la suma de los mismos, tenemos que modificar nuestro código."
   ]
  },
  {
   "cell_type": "code",
   "execution_count": 5,
   "metadata": {},
   "outputs": [
    {
     "name": "stdout",
     "output_type": "stream",
     "text": [
      "Writing files/mr-basico-instrumentado.py\n"
     ]
    }
   ],
   "source": [
    "%%writefile files/mr-basico-instrumentado.py\n",
    "from mrjob.job import MRJob\n",
    "from sys import stdin\n",
    "import os\n",
    "\n",
    "class Compras(MRJob):\n",
    "    def mapper(self, _, line):\n",
    "        tokens = line.split()\n",
    "        print \"mapper >>\", line\n",
    "        yield tokens[2], float(tokens[4])\n",
    "        \n",
    "    def reducer(self, key, values):\n",
    "        n_values, sum_values = 0,0\n",
    "        for i in values:\n",
    "            n_values += 1\n",
    "            sum_values += i\n",
    "        print \"reducer >>\", key, \"number of values\", n_values\n",
    "        yield key, sum_values\n",
    "        \n",
    "if __name__ == '__main__':\n",
    "    c = Compras()\n",
    "    c.run()"
   ]
  },
  {
   "cell_type": "code",
   "execution_count": 13,
   "metadata": {
    "scrolled": false
   },
   "outputs": [
    {
     "name": "stdout",
     "output_type": "stream",
     "text": [
      "mapper >> 2012-01-01 09:08 BOG Libros 88.56 Discover\n",
      "mapper >> 2012-01-01 09:52 BGA Libros 62.41 Discover\n",
      "mapper >> 2012-01-01 10:08 MED Musica 93.37 Visa\n",
      "mapper >> 2012-01-01 10:58 MED Musica 395.93 Discover\n",
      "mapper >> 2012-01-01 14:38 BOG Musica 113.24 MasterCard\n",
      "mapper >> 2012-01-01 14:44 BGA Libros 290.5 Visa\n",
      "mapper >> 2012-01-01 16:26 MED Musica 246.12 Efectivo\n",
      "reducer >> BGA number of values 2\n",
      "reducer >> BOG number of values 2\n",
      "reducer >> MED number of values 3\n",
      "\"BOG\"\t201.8\n",
      "\"BGA\"\t352.90999999999997\n",
      "\"MED\"\t735.4200000000001\n"
     ]
    }
   ],
   "source": [
    "%%script python files/mr-basico-instrumentado.py --quiet\n",
    "2012-01-01 09:08 BOG Libros 88.56 Discover\n",
    "2012-01-01 09:52 BGA Libros 62.41 Discover\n",
    "2012-01-01 10:08 MED Musica 93.37 Visa\n",
    "2012-01-01 10:58 MED Musica 395.93 Discover\n",
    "2012-01-01 14:38 BOG Musica 113.24 MasterCard\n",
    "2012-01-01 14:44 BGA Libros 290.5 Visa\n",
    "2012-01-01 16:26 MED Musica 246.12 Efectivo"
   ]
  },
  {
   "cell_type": "markdown",
   "metadata": {},
   "source": [
    "### Local runner\n",
    "\n",
    "Los programas en **mr-job** pueden ejecutarse en distintos **runners**. Fíjate en la opción `-r` cuando ejecutamos nuestro código. Los runners posibles son los siguientes:\n",
    "\n",
    "- **inline**: todos los `mapper` y `reducer` corren en el mismo proceso. Esta opción es útil para empezar a desarrollar un código y verificarlo funcionalmente.\n",
    "\n",
    "- **local**: cada `mapper` y `reducer` corren en distintos procesos independientes en la misma máquina. Con esta opción podemos hacer una primera simulación de nuetro código en un entorno distribuido.\n",
    "\n",
    "- **hadoop**: nuestro código se ejecuta en un cluster Hadoop\n",
    "\n",
    "Instrumentar código con un local runner o en Hadoop ya no es tan fácil porque cada ejecución de las funciones `mapper` y `reducer` se hace en procesos o en máquinas distintas. Si no tenemos un mecanismo para recoger y coordinar la instrumentación generada en los distintos procesos o máquinas perderemos al menos parte de ella.\n"
   ]
  },
  {
   "cell_type": "code",
   "execution_count": 14,
   "metadata": {},
   "outputs": [],
   "source": [
    "%%script python files/mr-basico-instrumentado.py -r local --quiet\n",
    "2012-01-01 09:08 BOG Libros 88.56 Discover\n",
    "2012-01-01 09:52 BGA Libros 62.41 Discover\n",
    "2012-01-01 10:08 MED Musica 93.37 Visa\n",
    "2012-01-01 10:58 MED Musica 395.93 Discover\n",
    "2012-01-01 14:38 BOG Musica 113.24 MasterCard\n",
    "2012-01-01 14:44 BGA Libros 290.5 Visa\n",
    "2012-01-01 16:26 MED Musica 246.12 Efectivo"
   ]
  },
  {
   "cell_type": "markdown",
   "metadata": {},
   "source": [
    "Distintos frameworks usan distintos mecanismos para instrumentar el código distribuido. En este caso (mrjob/Hadoop) usamos los `counters`, y el framework asegura un estado global de los mismos de manera consistente. Ahora necesitamos mostrar los mensajes de salida del framework para ver el valor final de los contadores.\n",
    "\n",
    "Usamos a partir de ahora el fichero `data/compras.txt` que tiene 30 registros con el mismo formato que el usado hasta ahora."
   ]
  },
  {
   "cell_type": "code",
   "execution_count": 15,
   "metadata": {},
   "outputs": [
    {
     "name": "stdout",
     "output_type": "stream",
     "text": [
      "2012-01-01 09:08 BOG Libros 88.56 Discover\r\n",
      "2012-01-01 09:09 BGA Libros 337.71 Efectivo\r\n",
      "2012-01-01 09:52 BGA Libros 450.33 MasterCard\r\n",
      "2012-01-01 09:52 BGA Libros 62.41 Discover\r\n",
      "2012-01-01 10:08 MED Musica 93.37 Visa\r\n",
      "2012-01-01 10:22 BGA Musica 369.94 MasterCard\r\n",
      "2012-01-01 10:58 MED Musica 119.12 Efectivo\r\n",
      "2012-01-01 10:58 MED Musica 395.93 Discover\r\n",
      "2012-01-01 11:01 MED Musica 476.82 Efectivo\r\n",
      "2012-01-01 11:15 MED Musica 22.34 Visa\r\n",
      "2012-01-01 11:31 BGA Musica 114.03 Efectivo\r\n",
      "2012-01-01 11:36 BOG Musica 296.76 Discover\r\n",
      "2012-01-01 11:52 BGA Musica 347.24 Visa\r\n",
      "2012-01-01 12:01 MED Libros 154.86 Discover\r\n",
      "2012-01-01 12:08 MED Libros 391.65 Visa\r\n",
      "2012-01-01 12:19 BOG Libros 165.05 Efectivo\r\n",
      "2012-01-01 12:19 BOG Libros 293.76 Discover\r\n",
      "2012-01-01 12:48 MED Libros 212.47 MasterCard\r\n",
      "2012-01-01 12:55 BOG Libros 352.38 Discover\r\n",
      "2012-01-01 13:04 BOG Musica 303.96 MasterCard\r\n",
      "2012-01-01 13:12 MED Musica 429.44 Efectivo\r\n",
      "2012-01-01 13:44 BOG Libros 249.6 MasterCard\r\n",
      "2012-01-01 14:20 BOG Libros 71.13 MasterCard\r\n",
      "2012-01-01 14:34 BGA Libros 72.04 Visa\r\n",
      "2012-01-01 14:38 BOG Musica 113.24 MasterCard\r\n",
      "2012-01-01 14:44 BGA Libros 290.5 Visa\r\n",
      "2012-01-01 15:22 BGA Libros 0.79 MasterCard\r\n",
      "2012-01-01 15:51 BOG Libros 74.13 Efectivo\r\n",
      "2012-01-01 16:01 MED Libros 92.19 MasterCard\r\n",
      "2012-01-01 16:26 MED Musica 2246.12 Efectivo\r\n"
     ]
    }
   ],
   "source": [
    "!cat data/compras.txt"
   ]
  },
  {
   "cell_type": "code",
   "execution_count": 16,
   "metadata": {},
   "outputs": [
    {
     "name": "stdout",
     "output_type": "stream",
     "text": [
      "Overwriting files/mr-basico-instrumentado-counters.py\n"
     ]
    }
   ],
   "source": [
    "%%writefile files/mr-basico-instrumentado-counters.py\n",
    "from mrjob.job import MRJob\n",
    "from sys import stdin\n",
    "import os\n",
    "\n",
    "class Compras(MRJob):\n",
    "\n",
    "    def mapper(self, _, line):\n",
    "        tokens = line.split()\n",
    "        self.increment_counter(\"llamadas al map\", \"numero\", 1)\n",
    "        yield tokens[2], float(tokens[4])\n",
    "        \n",
    "    def reducer(self, key, values):\n",
    "        n_values, sum_values = 0,0\n",
    "        for i in values:\n",
    "            n_values += 1\n",
    "            sum_values += i\n",
    "        self.increment_counter(\"longitud valores reduce\", key, n_values )\n",
    "        yield key, sum_values\n",
    "        \n",
    "if __name__ == '__main__':\n",
    "    c = Compras()\n",
    "    c.run()\n"
   ]
  },
  {
   "cell_type": "code",
   "execution_count": 17,
   "metadata": {
    "scrolled": false
   },
   "outputs": [
    {
     "name": "stdout",
     "output_type": "stream",
     "text": [
      "\"BOG\"\t2008.5699999999997\n",
      "\"BGA\"\t2044.9899999999998\n",
      "\"MED\"\t4634.3099999999995\n"
     ]
    },
    {
     "name": "stderr",
     "output_type": "stream",
     "text": [
      "No configs found; falling back on auto-configuration\n",
      "No configs specified for local runner\n",
      "Creating temp directory /tmp/mr-basico-instrumentado-counters.user.20180525.103614.549432\n",
      "Running step 1 of 1...\n",
      "\n",
      "Counters: 4\n",
      "\tllamadas al map\n",
      "\t\tnumero=30\n",
      "\tlongitud valores reduce\n",
      "\t\tBGA=9\n",
      "\t\tBOG=10\n",
      "\t\tMED=11\n",
      "\n",
      "Streaming final output from /tmp/mr-basico-instrumentado-counters.user.20180525.103614.549432/output...\n",
      "Removing temp directory /tmp/mr-basico-instrumentado-counters.user.20180525.103614.549432...\n"
     ]
    }
   ],
   "source": [
    "%%script python files/mr-basico-instrumentado-counters.py -r local data/compras.txt\n",
    "--"
   ]
  },
  {
   "cell_type": "markdown",
   "metadata": {},
   "source": [
    "podemos también ejecutar el mismo código, capturar el `stderr` y quedarnos con lo que nos interesa "
   ]
  },
  {
   "cell_type": "code",
   "execution_count": 18,
   "metadata": {},
   "outputs": [
    {
     "name": "stdout",
     "output_type": "stream",
     "text": [
      "\"BOG\"\t2008.5699999999997\n",
      "\"BGA\"\t2044.9899999999998\n",
      "\"MED\"\t4634.3099999999995\n"
     ]
    }
   ],
   "source": [
    "%%script --err err python files/mr-basico-instrumentado-counters.py -r local data/compras.txt\n",
    "--"
   ]
  },
  {
   "cell_type": "code",
   "execution_count": 19,
   "metadata": {},
   "outputs": [
    {
     "name": "stdout",
     "output_type": "stream",
     "text": [
      "Creating temp directory /tmp/mr-basico-instrumentado-counters.user.20180525.103619.530495\n",
      "Running step 1 of 1...\n",
      "\n",
      "Counters: 4\n",
      "\tllamadas al map\n",
      "\t\tnumero=30\n",
      "\tlongitud valores reduce\n",
      "\t\tBGA=9\n",
      "\t\tBOG=10\n",
      "\t\tMED=11\n",
      "\n",
      "Removing temp directory /tmp/mr-basico-instrumentado-counters.user.20180525.103619.530495...\n",
      "\n"
     ]
    }
   ],
   "source": [
    "def print_stderr(err):\n",
    "    for line in err.split(\"\\n\"):\n",
    "        if not any (x in line for x in [\"configs\", \"writing\", \"creating\", \"python\", \n",
    "                                        \"sort\", \"Moving\", \"Streaming\", \"removing\"]):\n",
    "            print line\n",
    "            \n",
    "print_stderr(err)"
   ]
  },
  {
   "cell_type": "markdown",
   "metadata": {},
   "source": [
    "### Controlando el número de mappers y reducers\n",
    "Ahora cambiamos la instrumentación para que cuente el número de llamadas de cada función por cada proceso. Puedes controlar el número de mappers y reducers al ejecutar tu programa como se indica abajo. Prueba a ejecutar el código con distintos números de mappers."
   ]
  },
  {
   "cell_type": "code",
   "execution_count": 20,
   "metadata": {},
   "outputs": [
    {
     "name": "stdout",
     "output_type": "stream",
     "text": [
      "Writing files/mr-basico-instrumentado-counters-tasks.py\n"
     ]
    }
   ],
   "source": [
    "%%writefile files/mr-basico-instrumentado-counters-tasks.py\n",
    "from mrjob.job import MRJob\n",
    "from sys import stdin\n",
    "import os\n",
    "\n",
    "class Compras(MRJob):\n",
    "\n",
    "    def mapper(self, _, line):\n",
    "        tokens = line.split()\n",
    "        self.increment_counter(\"map: proceso \"+str(os.getpid()), \"numero\", 1)\n",
    "        yield tokens[2], float(tokens[4])\n",
    "        \n",
    "    def reducer(self, key, values):\n",
    "        n_values, sum_values = 0,0\n",
    "        for i in values:\n",
    "            n_values += 1\n",
    "            sum_values += i\n",
    "        self.increment_counter(\"longitud valores reduce: proceso \"+str(os.getpid()), key, n_values )\n",
    "        yield key, sum_values\n",
    "        \n",
    "        \n",
    "if __name__ == '__main__':\n",
    "    c = Compras()\n",
    "    c.run()"
   ]
  },
  {
   "cell_type": "markdown",
   "metadata": {},
   "source": [
    "_la linea entera que se ejecuta a continuación es la siguiente_\n",
    "\n",
    "    python files/mr-basico-instrumentado-counters-tasks.py \n",
    "           -r local \n",
    "           --jobconf mapred.map.tasks=5 \n",
    "           --jobconf mapred.reduce.tasks=1 \n",
    "           data/compras.txt"
   ]
  },
  {
   "cell_type": "code",
   "execution_count": 21,
   "metadata": {
    "scrolled": false
   },
   "outputs": [
    {
     "name": "stdout",
     "output_type": "stream",
     "text": [
      "\"BOG\"\t2008.5699999999997\n",
      "\"BGA\"\t2044.9899999999998\n",
      "\"MED\"\t4634.3099999999995\n"
     ]
    }
   ],
   "source": [
    "%%script --err err python files/mr-basico-instrumentado-counters-tasks.py -r local --jobconf mapred.map.tasks=5 --jobconf mapred.reduce.tasks=1 data/compras.txt\n",
    "--"
   ]
  },
  {
   "cell_type": "code",
   "execution_count": 22,
   "metadata": {},
   "outputs": [
    {
     "name": "stdout",
     "output_type": "stream",
     "text": [
      "Creating temp directory /tmp/mr-basico-instrumentado-counters-tasks.user.20180525.103630.614323\n",
      "Running step 1 of 1...\n",
      "\n",
      "Counters: 7\n",
      "\tlongitud valores reduce: proceso 886\n",
      "\t\tBGA=9\n",
      "\tlongitud valores reduce: proceso 887\n",
      "\t\tBOG=10\n",
      "\tlongitud valores reduce: proceso 892\n",
      "\t\tMED=11\n",
      "\tmap: proceso 865\n",
      "\t\tnumero=8\n",
      "\tmap: proceso 866\n",
      "\t\tnumero=8\n",
      "\tmap: proceso 871\n",
      "\t\tnumero=8\n",
      "\tmap: proceso 872\n",
      "\t\tnumero=6\n",
      "\n",
      "Removing temp directory /tmp/mr-basico-instrumentado-counters-tasks.user.20180525.103630.614323...\n",
      "\n"
     ]
    }
   ],
   "source": [
    "print_stderr(err)"
   ]
  },
  {
   "cell_type": "markdown",
   "metadata": {},
   "source": [
    "## Combiners\n",
    "\n",
    "los combiners permiten resumir los datos que emite cada proceso map antes de que lleguen al reduce y así reducir el tráfico de red que sale de los procesos map y que entra en los reducers. Los combiners se ejecutan en la misma máquina que el map, alimentándose directamente de la salida de éste. Típicamente un combiner tiene la misma implementación que el `reducer` si es que éste **es asociativo**. Si no, puede tener otra implementación particular. Fíjate en la relación entre el número de procesos map y el número de valores que le entran a cada reduce."
   ]
  },
  {
   "cell_type": "code",
   "execution_count": 23,
   "metadata": {},
   "outputs": [
    {
     "name": "stdout",
     "output_type": "stream",
     "text": [
      "Writing files/mr-basico-combiners.py\n"
     ]
    }
   ],
   "source": [
    "%%writefile files/mr-basico-combiners.py\n",
    "from mrjob.job import MRJob\n",
    "from sys import stdin\n",
    "import os\n",
    "\n",
    "class Compras(MRJob):\n",
    "\n",
    "    def mapper(self, _, line):\n",
    "        tokens = line.split()\n",
    "        self.increment_counter(\"map: proceso \"+str(os.getpid()), \"numero\", 1)\n",
    "        yield tokens[2], float(tokens[4])\n",
    "        \n",
    "    def combiner(self, key, values):\n",
    "        yield key, sum(values)\n",
    "        \n",
    "    def reducer(self, key, values):\n",
    "        n_values, sum_values = 0,0\n",
    "        for i in values:\n",
    "            n_values += 1\n",
    "            sum_values += i\n",
    "        self.increment_counter(\"longitud valores reduce: proceso \"+str(os.getpid()), key, n_values )\n",
    "        yield key, sum_values\n",
    "        \n",
    "if __name__ == '__main__':\n",
    "    c = Compras()\n",
    "    c.run()"
   ]
  },
  {
   "cell_type": "code",
   "execution_count": 24,
   "metadata": {},
   "outputs": [
    {
     "name": "stdout",
     "output_type": "stream",
     "text": [
      "\"BOG\"\t2008.5699999999997\n",
      "\"BGA\"\t2044.9899999999998\n",
      "\"MED\"\t4634.3099999999995\n"
     ]
    }
   ],
   "source": [
    "%%script --err err python files/mr-basico-combiners.py -r local --jobconf mapred.map.tasks=4 data/compras.txt\n",
    "--"
   ]
  },
  {
   "cell_type": "code",
   "execution_count": 25,
   "metadata": {},
   "outputs": [
    {
     "name": "stdout",
     "output_type": "stream",
     "text": [
      "Creating temp directory /tmp/mr-basico-combiners.user.20180525.103636.565839\n",
      "Running step 1 of 1...\n",
      "\n",
      "Counters: 7\n",
      "\tlongitud valores reduce: proceso 948\n",
      "\t\tBGA=4\n",
      "\tlongitud valores reduce: proceso 949\n",
      "\t\tBOG=4\n",
      "\tlongitud valores reduce: proceso 955\n",
      "\t\tMED=4\n",
      "\tmap: proceso 907\n",
      "\t\tnumero=8\n",
      "\tmap: proceso 908\n",
      "\t\tnumero=8\n",
      "\tmap: proceso 921\n",
      "\t\tnumero=8\n",
      "\tmap: proceso 922\n",
      "\t\tnumero=6\n",
      "\n",
      "Removing temp directory /tmp/mr-basico-combiners.user.20180525.103636.565839...\n",
      "\n"
     ]
    }
   ],
   "source": [
    "print_stderr(err)"
   ]
  },
  {
   "cell_type": "code",
   "execution_count": null,
   "metadata": {},
   "outputs": [],
   "source": []
  },
  {
   "cell_type": "code",
   "execution_count": null,
   "metadata": {
    "collapsed": true
   },
   "outputs": [],
   "source": []
  }
 ],
 "metadata": {
  "kernelspec": {
   "display_name": "Python 2",
   "language": "python",
   "name": "python2"
  },
  "language_info": {
   "codemirror_mode": {
    "name": "ipython",
    "version": 2
   },
   "file_extension": ".py",
   "mimetype": "text/x-python",
   "name": "python",
   "nbconvert_exporter": "python",
   "pygments_lexer": "ipython2",
   "version": "2.7.14"
  },
  "toc": {
   "toc_cell": false,
   "toc_number_sections": true,
   "toc_threshold": 6,
   "toc_window_display": false
  },
  "widgets": {
   "state": {},
   "version": "1.1.2"
  }
 },
 "nbformat": 4,
 "nbformat_minor": 1
}
